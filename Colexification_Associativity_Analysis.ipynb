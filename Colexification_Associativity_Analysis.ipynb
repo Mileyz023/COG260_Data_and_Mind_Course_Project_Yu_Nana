{
 "cells": [
  {
   "cell_type": "markdown",
   "metadata": {},
   "source": [
    "Import relevant Python libraries."
   ]
  },
  {
   "cell_type": "code",
   "execution_count": 4,
   "metadata": {},
   "outputs": [],
   "source": [
    "import numpy as np\n",
    "import pandas as pd\n",
    "from tqdm import tqdm\n",
    "from itertools import product\n",
    "from collections import Counter\n",
    "from sklearn.model_selection import train_test_split\n",
    "from sklearn.linear_model import LogisticRegression\n",
    "from sklearn.metrics import accuracy_score, confusion_matrix\n",
    "import csv\n",
    "import seaborn as sns\n",
    "import matplotlib.pyplot as plt\n",
    "\n",
    "\n",
    "pd.options.mode.chained_assignment = None"
   ]
  },
  {
   "cell_type": "markdown",
   "metadata": {},
   "source": [
    "# README:\n",
    " \n",
    "### This notebook is divided into two parts. In part 1, we used the CLICS and the USF data to generate our own dataset for analysis (\"Logistic_data.csv\"). In part 2, we conducted the analysis by fitting several logistic regressions. For replication, it is sufficient to run part 2 on \"Logistic_data.csv\"."
   ]
  },
  {
   "cell_type": "markdown",
   "metadata": {},
   "source": [
    "# Part 1: Data pre-processing"
   ]
  },
  {
   "cell_type": "code",
   "execution_count": 2,
   "metadata": {
    "scrolled": true
   },
   "outputs": [
    {
     "name": "stderr",
     "output_type": "stream",
     "text": [
      "/tmp/ipykernel_29/2801652837.py:1: DtypeWarning: Columns (4) have mixed types. Specify dtype option on import or set low_memory=False.\n",
      "  df = pd.read_csv(\"df_all_raw.csv\")\n"
     ]
    }
   ],
   "source": [
    "# df = pd.read_csv(\"df_all_raw.csv\")\n",
    "# df.columns = list(map(str.lower, df.columns))\n",
    "# df = df.drop(columns=['dataset_id', 'form_id', 'form', 'gloss_in_source', 'iso639p3code', 'mrc_word', 'kucera_francis_frequency'])"
   ]
  },
  {
   "cell_type": "code",
   "execution_count": 3,
   "metadata": {},
   "outputs": [
    {
     "data": {
      "text/html": [
       "<div>\n",
       "<style scoped>\n",
       "    .dataframe tbody tr th:only-of-type {\n",
       "        vertical-align: middle;\n",
       "    }\n",
       "\n",
       "    .dataframe tbody tr th {\n",
       "        vertical-align: top;\n",
       "    }\n",
       "\n",
       "    .dataframe thead th {\n",
       "        text-align: right;\n",
       "    }\n",
       "</style>\n",
       "<table border=\"1\" class=\"dataframe\">\n",
       "  <thead>\n",
       "    <tr style=\"text-align: right;\">\n",
       "      <th></th>\n",
       "      <th>clics_form</th>\n",
       "      <th>concepticon_id</th>\n",
       "      <th>concepticon_gloss</th>\n",
       "      <th>ontological_category</th>\n",
       "      <th>semantic_field</th>\n",
       "      <th>variety</th>\n",
       "      <th>glottocode</th>\n",
       "      <th>macroarea</th>\n",
       "      <th>family</th>\n",
       "      <th>latitude</th>\n",
       "      <th>longitude</th>\n",
       "      <th>age_of_acquisition</th>\n",
       "      <th>concreteness</th>\n",
       "      <th>familiarity</th>\n",
       "      <th>imagability</th>\n",
       "    </tr>\n",
       "  </thead>\n",
       "  <tbody>\n",
       "    <tr>\n",
       "      <th>0</th>\n",
       "      <td>san</td>\n",
       "      <td>1369</td>\n",
       "      <td>GOLD</td>\n",
       "      <td>Person/Thing</td>\n",
       "      <td>Basic actions and technology</td>\n",
       "      <td>Bugun Bichom</td>\n",
       "      <td>bich1234</td>\n",
       "      <td>NaN</td>\n",
       "      <td>Sino-Tibetan</td>\n",
       "      <td>NaN</td>\n",
       "      <td>NaN</td>\n",
       "      <td>NaN</td>\n",
       "      <td>576.0</td>\n",
       "      <td>550.0</td>\n",
       "      <td>594.0</td>\n",
       "    </tr>\n",
       "    <tr>\n",
       "      <th>1</th>\n",
       "      <td>san</td>\n",
       "      <td>1369</td>\n",
       "      <td>GOLD</td>\n",
       "      <td>Person/Thing</td>\n",
       "      <td>Basic actions and technology</td>\n",
       "      <td>Bugun Kaspi</td>\n",
       "      <td>kasp1234</td>\n",
       "      <td>NaN</td>\n",
       "      <td>Sino-Tibetan</td>\n",
       "      <td>NaN</td>\n",
       "      <td>NaN</td>\n",
       "      <td>NaN</td>\n",
       "      <td>576.0</td>\n",
       "      <td>550.0</td>\n",
       "      <td>594.0</td>\n",
       "    </tr>\n",
       "    <tr>\n",
       "      <th>2</th>\n",
       "      <td>san</td>\n",
       "      <td>1369</td>\n",
       "      <td>GOLD</td>\n",
       "      <td>Person/Thing</td>\n",
       "      <td>Basic actions and technology</td>\n",
       "      <td>Bugun Namphri</td>\n",
       "      <td>namp1239</td>\n",
       "      <td>NaN</td>\n",
       "      <td>Sino-Tibetan</td>\n",
       "      <td>NaN</td>\n",
       "      <td>NaN</td>\n",
       "      <td>NaN</td>\n",
       "      <td>576.0</td>\n",
       "      <td>550.0</td>\n",
       "      <td>594.0</td>\n",
       "    </tr>\n",
       "    <tr>\n",
       "      <th>3</th>\n",
       "      <td>san</td>\n",
       "      <td>1369</td>\n",
       "      <td>GOLD</td>\n",
       "      <td>Person/Thing</td>\n",
       "      <td>Basic actions and technology</td>\n",
       "      <td>Bugun Singchung</td>\n",
       "      <td>sing1271</td>\n",
       "      <td>NaN</td>\n",
       "      <td>Sino-Tibetan</td>\n",
       "      <td>NaN</td>\n",
       "      <td>NaN</td>\n",
       "      <td>NaN</td>\n",
       "      <td>576.0</td>\n",
       "      <td>550.0</td>\n",
       "      <td>594.0</td>\n",
       "    </tr>\n",
       "    <tr>\n",
       "      <th>4</th>\n",
       "      <td>san</td>\n",
       "      <td>1369</td>\n",
       "      <td>GOLD</td>\n",
       "      <td>Person/Thing</td>\n",
       "      <td>Basic actions and technology</td>\n",
       "      <td>Bugun Wangho</td>\n",
       "      <td>wang1301</td>\n",
       "      <td>NaN</td>\n",
       "      <td>Sino-Tibetan</td>\n",
       "      <td>NaN</td>\n",
       "      <td>NaN</td>\n",
       "      <td>NaN</td>\n",
       "      <td>576.0</td>\n",
       "      <td>550.0</td>\n",
       "      <td>594.0</td>\n",
       "    </tr>\n",
       "  </tbody>\n",
       "</table>\n",
       "</div>"
      ],
      "text/plain": [
       "  clics_form  concepticon_id concepticon_gloss ontological_category  \\\n",
       "0        san            1369              GOLD         Person/Thing   \n",
       "1        san            1369              GOLD         Person/Thing   \n",
       "2        san            1369              GOLD         Person/Thing   \n",
       "3        san            1369              GOLD         Person/Thing   \n",
       "4        san            1369              GOLD         Person/Thing   \n",
       "\n",
       "                 semantic_field          variety glottocode macroarea  \\\n",
       "0  Basic actions and technology     Bugun Bichom   bich1234       NaN   \n",
       "1  Basic actions and technology      Bugun Kaspi   kasp1234       NaN   \n",
       "2  Basic actions and technology    Bugun Namphri   namp1239       NaN   \n",
       "3  Basic actions and technology  Bugun Singchung   sing1271       NaN   \n",
       "4  Basic actions and technology     Bugun Wangho   wang1301       NaN   \n",
       "\n",
       "         family  latitude  longitude  age_of_acquisition  concreteness  \\\n",
       "0  Sino-Tibetan       NaN        NaN                 NaN         576.0   \n",
       "1  Sino-Tibetan       NaN        NaN                 NaN         576.0   \n",
       "2  Sino-Tibetan       NaN        NaN                 NaN         576.0   \n",
       "3  Sino-Tibetan       NaN        NaN                 NaN         576.0   \n",
       "4  Sino-Tibetan       NaN        NaN                 NaN         576.0   \n",
       "\n",
       "   familiarity  imagability  \n",
       "0        550.0        594.0  \n",
       "1        550.0        594.0  \n",
       "2        550.0        594.0  \n",
       "3        550.0        594.0  \n",
       "4        550.0        594.0  "
      ]
     },
     "execution_count": 3,
     "metadata": {},
     "output_type": "execute_result"
    }
   ],
   "source": [
    "# df.head()"
   ]
  },
  {
   "cell_type": "markdown",
   "metadata": {},
   "source": [
    "## SETUP: Find common pairs of concepts in the CLICS and USF data for associativeness"
   ]
  },
  {
   "cell_type": "markdown",
   "metadata": {},
   "source": [
    "In this part, we performed the following steps:\n",
    "\n",
    "(1) Filter and extract pairs of concepts that colexified in at least in one language from the CLICS dataset;\n",
    "\n",
    "(2) Extract cue-target pairs from the USF data along with their forward and backward strength, filtering out the ones with missing values;\n",
    "\n",
    "(3) Find out the pairs of colexified concepts in the CLICS dataset that also exist within the USF dataset, so that we can obtain their associativeness. Here, we do not consider the order within the pairs."
   ]
  },
  {
   "cell_type": "code",
   "execution_count": 4,
   "metadata": {},
   "outputs": [],
   "source": [
    "# # Step 1: Construct a dictionary for colexified concept pairs and the counts in one language\n",
    "# def per_lang_colexification_dict_only(curr_df):\n",
    "#     \"\"\"\n",
    "#     Calculate the colexification frequency of pairs of concepts present in the current language.\n",
    "#     \"\"\"\n",
    "#     all_combos_dict = {}\n",
    "#     # We iterate through each row, which has the concepts associated with a specific word\n",
    "#     for i, row in curr_df.iterrows():\n",
    "#         # Get the current set of concepts\n",
    "#         a = row['concepticon_gloss']\n",
    "#         # Create all possible unique combinations of concepts, where each pair is alphabetically sorted\n",
    "#         combos = list(set(map(lambda x: tuple(sorted(x)), product(a, a))))\n",
    "#         # Ensure the concepts in the pair are not identical\n",
    "#         combos = [combo for combo in combos if combo[0] != combo[1]]\n",
    "#         # Add counts for a pair of combinations being colexified\n",
    "#         for combo in combos:\n",
    "#             if combo in all_combos_dict:\n",
    "#                 all_combos_dict[combo] += 1\n",
    "#             else:\n",
    "#                 all_combos_dict[combo] = 1\n",
    "\n",
    "#     return all_combos_dict"
   ]
  },
  {
   "cell_type": "code",
   "execution_count": 5,
   "metadata": {},
   "outputs": [],
   "source": [
    "# # Merge across languages\n",
    "# def main():\n",
    "#     all_dicts = []\n",
    "#     for variety in tqdm(df['variety'].unique()):\n",
    "#         sub = df[df['variety'] == variety]\n",
    "#         agg = sub.groupby(\"clics_form\")[['concepticon_gloss', 'concepticon_id']].agg(list)\n",
    "#         agg['num_concepts'] = agg['concepticon_gloss'].apply(lambda x: len(set(x)))\n",
    "#         colex = agg[agg['num_concepts']>1]\n",
    "#         colex['concepticon_gloss'] = colex['concepticon_gloss'].apply(lambda x: sorted(list(set(x))))\n",
    "#         # We skip any language where no concepts are colexified\n",
    "#         if colex.shape[0] == 0:\n",
    "#             continue\n",
    "#         curr_dict = per_lang_colexification_dict_only(colex)\n",
    "#         all_dicts.append(curr_dict)\n",
    "        \n",
    "#     aggregated_dict = dict(sum((Counter(d) for d in all_dicts), Counter()))\n",
    "\n",
    "#     return aggregated_dict"
   ]
  },
  {
   "cell_type": "code",
   "execution_count": 6,
   "metadata": {
    "scrolled": false
   },
   "outputs": [
    {
     "name": "stderr",
     "output_type": "stream",
     "text": [
      "100%|██████████| 3050/3050 [05:11<00:00,  9.80it/s]\n"
     ]
    }
   ],
   "source": [
    "# aggregated_dict = main()"
   ]
  },
  {
   "cell_type": "code",
   "execution_count": 7,
   "metadata": {
    "scrolled": true
   },
   "outputs": [
    {
     "name": "stdout",
     "output_type": "stream",
     "text": [
      "74330\n"
     ]
    }
   ],
   "source": [
    "# # Remove parentheses and their contents inside for each concept\n",
    "# # IMPORTANT: We still need to discuss further whether to consider contents in the parenteses\n",
    "# cleaned_concept_dict = {(key[0].replace('(', '').replace(')', ''), key[1].replace('(', '').replace(')', '')): value for key, value in aggregated_dict.items()}\n",
    "# print(len(cleaned_concept_dict))\n",
    "# # print(cleaned_concept_dict)"
   ]
  },
  {
   "cell_type": "code",
   "execution_count": 8,
   "metadata": {},
   "outputs": [],
   "source": [
    "# cleaned_concept_set = set(cleaned_concept_dict.keys())"
   ]
  },
  {
   "cell_type": "code",
   "execution_count": 9,
   "metadata": {
    "scrolled": true
   },
   "outputs": [],
   "source": [
    "# # Step 2: Load word pairs from USF data along with their forward & backward strength\n",
    "# USF_pairs_dict = dict()\n",
    "\n",
    "# def load_USF_pairs(data_path, pairs_dict):\n",
    "#     with open(data_path, 'r', newline='', encoding='utf-8') as csv_file:\n",
    "#         # Create a DictReader object\n",
    "#         csv_reader = csv.DictReader(csv_file)\n",
    "\n",
    "#         # Print the header row\n",
    "#         header = csv_reader.fieldnames\n",
    "\n",
    "#         # Find all pairs in the csv\n",
    "#         for row in csv_reader:\n",
    "#             # Filter out the pairs with missing words & target not normed\n",
    "#             if row['Target Normed?'] == 'YES' and row['Cues'] != '' and row['Targets'] != '':\n",
    "#                 word_1 = row['Cues']\n",
    "#                 word_2 = row['Targets']\n",
    "#                 # Filter out the pairs where forward or/and backward strength are missing\n",
    "#                 if row['Forward Strength'] != 'missing' and row['Backward Strength'] != 'missing':\n",
    "#                     pair = (word_1, word_2)\n",
    "#                     assert pair not in pairs_dict\n",
    "#                     pairs_dict[pair] = [float(row['Forward Strength']), float(row['Backward Strength'])]\n",
    "                    \n",
    "#     return pairs_dict\n",
    "\n",
    "            \n",
    "# USF_pairs_dict = load_USF_pairs('AppendixA1.csv', USF_pairs_dict)\n",
    "# USF_pairs_dict = load_USF_pairs('AppendixA2.csv', USF_pairs_dict)\n",
    "\n",
    "# USF_pairs_set = set(USF_pairs_dict.keys())\n",
    "\n",
    "# df_usf = pd.DataFrame.from_dict(USF_pairs_dict, orient='index', columns=['Forward_strength', 'Backward_strength'])\n",
    "# # df_usf # Print out all the filtered pairs along with their forward and backward strength"
   ]
  },
  {
   "cell_type": "code",
   "execution_count": 10,
   "metadata": {},
   "outputs": [],
   "source": [
    "# usf_pair_associativity = {key: sum(values) / len(values) for key, values in USF_pairs_dict.items()}"
   ]
  },
  {
   "cell_type": "markdown",
   "metadata": {},
   "source": [
    "## Predictor 1: Associativity"
   ]
  },
  {
   "cell_type": "code",
   "execution_count": 11,
   "metadata": {
    "scrolled": true
   },
   "outputs": [
    {
     "name": "stdout",
     "output_type": "stream",
     "text": [
      "2295\n"
     ]
    }
   ],
   "source": [
    "# # Step 3: Find union between two sets\n",
    "# common_pairs = set()\n",
    "# common_pairs_associativity_dict = dict()\n",
    "\n",
    "# for pair in cleaned_concept_set:\n",
    "#     # Check if either the original pair or its reversed version is in USF_pairs_set\n",
    "#     if pair in USF_pairs_set or pair[::-1] in USF_pairs_set:\n",
    "#         common_pairs.add(pair)\n",
    "        \n",
    "#         assert pair not in common_pairs_associativity_dict\n",
    "#         if pair in USF_pairs_set:\n",
    "#             common_pairs_associativity_dict[pair] = sum(USF_pairs_dict[pair]) / len(USF_pairs_dict[pair])\n",
    "#         elif pair[::-1] in USF_pairs_set:\n",
    "#             common_pairs_associativity_dict[pair] = sum(USF_pairs_dict[pair[::-1]]) / len(USF_pairs_dict[pair[::-1]])\n",
    "\n",
    "# print(len(common_pairs_associativity_dict))"
   ]
  },
  {
   "cell_type": "markdown",
   "metadata": {},
   "source": [
    "## Predictor 2: Familarity"
   ]
  },
  {
   "cell_type": "code",
   "execution_count": 12,
   "metadata": {},
   "outputs": [],
   "source": [
    "# # 2. Familarity\n",
    "# df_dropped_fam = df.dropna(subset=['familiarity'])\n",
    "# df_familiarity = df_dropped_fam.groupby('concepticon_gloss')['familiarity'].mean().reset_index()\n",
    "# # df_familiarity\n",
    "\n",
    "# concept_fam_dict = df_familiarity.set_index('concepticon_gloss')['familiarity'].to_dict()\n",
    "# # print(concept_fam_dict)\n",
    "\n",
    "# cleaned_fam_dict = {key.replace('(', '').replace(')', ''): value for key, value in concept_fam_dict.items()}\n",
    "# # print(cleaned_fam_dict)"
   ]
  },
  {
   "cell_type": "code",
   "execution_count": 13,
   "metadata": {
    "scrolled": false
   },
   "outputs": [
    {
     "name": "stdout",
     "output_type": "stream",
     "text": [
      "1600\n"
     ]
    }
   ],
   "source": [
    "# common_pair_familiarity_dict = dict()\n",
    "\n",
    "# for pair in common_pairs:\n",
    "#     concept_1 = pair[0]\n",
    "#     concept_2 = pair[1]\n",
    "#     if concept_1 in cleaned_fam_dict and concept_2 in cleaned_fam_dict:\n",
    "#         fam_1 = cleaned_fam_dict[concept_1]\n",
    "#         fam_2 = cleaned_fam_dict[concept_2]\n",
    "#         avg_fam = (fam_1 + fam_2) / 2\n",
    "\n",
    "#         assert pair not in common_pair_familiarity_dict\n",
    "#         common_pair_familiarity_dict[pair] = avg_fam\n",
    "    \n",
    "# print(len(common_pair_familiarity_dict))"
   ]
  },
  {
   "cell_type": "markdown",
   "metadata": {},
   "source": [
    "# Predictor 3: Concreteness"
   ]
  },
  {
   "cell_type": "code",
   "execution_count": 14,
   "metadata": {},
   "outputs": [],
   "source": [
    "# # 3. Concreteness\n",
    "# df_dropped_con = df.dropna(subset=['concreteness'])\n",
    "# df_concreteness = df_dropped_con.groupby('concepticon_gloss')['concreteness'].mean().reset_index()\n",
    "# # cleaned_con = df_concreteness['concreteness']\n",
    "\n",
    "# concept_concret_dict = df_concreteness.set_index('concepticon_gloss')['concreteness'].to_dict()\n",
    "# cleaned_con_dict = {key.replace('(', '').replace(')', ''): value for key, value in concept_concret_dict.items()}"
   ]
  },
  {
   "cell_type": "code",
   "execution_count": 15,
   "metadata": {
    "scrolled": false
   },
   "outputs": [
    {
     "name": "stdout",
     "output_type": "stream",
     "text": [
      "1460\n"
     ]
    }
   ],
   "source": [
    "# common_pair_concreteness_dict = dict()\n",
    "\n",
    "# for pair in common_pairs:\n",
    "#     concept_1 = pair[0]\n",
    "#     concept_2 = pair[1]\n",
    "#     if concept_1 in cleaned_con_dict and concept_2 in cleaned_con_dict:\n",
    "#         con_1 = cleaned_con_dict[concept_1]\n",
    "#         con_2 = cleaned_con_dict[concept_2]\n",
    "#         con_diff = abs(con_1 - con_2)\n",
    "\n",
    "#         assert pair not in common_pair_concreteness_dict\n",
    "#         common_pair_concreteness_dict[pair] = con_diff\n",
    "    \n",
    "# print(len(common_pair_concreteness_dict))"
   ]
  },
  {
   "cell_type": "code",
   "execution_count": 18,
   "metadata": {},
   "outputs": [
    {
     "name": "stdout",
     "output_type": "stream",
     "text": [
      "1460\n"
     ]
    }
   ],
   "source": [
    "# # Find union of all three dicionaries\n",
    "# final_common_keys = set(common_pairs_associativity_dict.keys()) & set(common_pair_familiarity_dict.keys()) & set(common_pair_concreteness_dict.keys())\n",
    "# print(len(final_common_keys)) # final number of pairs that have all data that we need!"
   ]
  },
  {
   "cell_type": "markdown",
   "metadata": {},
   "source": [
    "## Combine results for all three predictors"
   ]
  },
  {
   "cell_type": "code",
   "execution_count": 19,
   "metadata": {
    "scrolled": true
   },
   "outputs": [
    {
     "name": "stdout",
     "output_type": "stream",
     "text": [
      "1460\n",
      "1460\n",
      "1460\n"
     ]
    }
   ],
   "source": [
    "# # # Dictionary for associativity (1460 common pairs)\n",
    "# # print(common_pairs_associativity_dict)\n",
    "# associativity_pair_dict = {key: common_pairs_associativity_dict[key] for key in final_common_keys}\n",
    "# print(len(associativity_pair_dict))\n",
    "\n",
    "\n",
    "# # # Dictionary for familarity (1460 common pairs)\n",
    "# # print(common_pairs_associativity_dict)\n",
    "# familiarity_pair_dict = {key: common_pair_familiarity_dict[key] for key in final_common_keys}\n",
    "# print(len(familiarity_pair_dict))\n",
    "\n",
    "\n",
    "# # # Dictionary for concreteness (1460 common pairs)\n",
    "# concreteness_pair_dict = {key: common_pair_concreteness_dict[key] for key in final_common_keys}\n",
    "# # print(sorted(concreteness_pair_dict.keys()))\n",
    "\n",
    "# # # Dictionary for imagability (1460 common pairs)\n",
    "# # print(common_pairs_associativity_dict)\n",
    "# imagability_pair_dict = {key: common_pair_imagability_dict[key] for key in final_common_keys}\n",
    "# print(len(imagability_pair_dict))\n"
   ]
  },
  {
   "cell_type": "markdown",
   "metadata": {},
   "source": [
    "## Response variable - colex frequency"
   ]
  },
  {
   "cell_type": "code",
   "execution_count": 20,
   "metadata": {},
   "outputs": [
    {
     "name": "stdout",
     "output_type": "stream",
     "text": [
      "1460\n",
      "980\n",
      "480\n",
      "980\n",
      "480\n",
      "480\n",
      "480\n"
     ]
    }
   ],
   "source": [
    "# import random\n",
    "# # # Dictionary for colexification freq (all pairs)\n",
    "# # print(cleaned_concept_dict)\n",
    "# colex_freq_dict = {key: cleaned_concept_dict[key] for key in final_common_keys}\n",
    "# print(len(colex_freq_dict))\n",
    "\n",
    "\n",
    "# # Construct a dictionary with binary values -- if freq == 1: 0, if freq > 1: 1\n",
    "# colex_pair_dict = {key: 0 if value <= 1 else 1 for key, value in colex_freq_dict.items()}\n",
    "\n",
    "# count_1 = sum(value == 1 for value in colex_pair_dict.values())\n",
    "# count_0 = sum(value == 0 for value in colex_pair_dict.values())\n",
    "\n",
    "# print(count_1)\n",
    "# print(count_0) # need to match in sample size\n",
    "\n",
    "# # Identify pairs with value 1\n",
    "# pairs_1 = [pair for pair, value in colex_pair_dict.items() if value == 1]\n",
    "# print(len(pairs_1))\n",
    "\n",
    "# random.seed(0)\n",
    "# downsampled_pairs_1 = random.sample(pairs_1, count_0)\n",
    "# print(len(downsampled_pairs_1))\n",
    "\n",
    "# downsampled_dict = dict((pair, 1) for pair in downsampled_pairs_1)\n",
    "# downsampled_dict.update({pair: 0 for pair, value in colex_pair_dict.items() if value == 0})\n",
    "# #print(sorted(downsampled_dict.keys()))\n",
    "\n",
    "# new_count_1 = sum(value == 1 for value in downsampled_dict.values())\n",
    "# new_count_0 = sum(value == 0 for value in downsampled_dict.values())\n",
    "# print(new_count_1)\n",
    "# print(new_count_0)"
   ]
  },
  {
   "cell_type": "markdown",
   "metadata": {},
   "source": [
    "## A summary of all dictionaries\n",
    "\n",
    "There are all 1460 concept pairs in total\n",
    "\n",
    "## Predictor 1: associativity_pair_dict\n",
    "key: concept pairs; value: associativity between two concepts\n",
    "\n",
    "## Predictor 2: familiarity_pair_dict\n",
    "key: concept pairs; value: average familiarity between two concepts\n",
    "\n",
    "## Predictor 3: concreteness_pair_dict\n",
    "key: concept pairs; value: absolute difference in concreteness between two concepts\n",
    "\n",
    "## Response variable: colex_pair_dict\n",
    "key: concept pairs; value: 1 if colexified in at least two langauges, 0 if only in one language\n",
    "\n",
    "*note: may need to randomly downsample to match in sample size here!\n",
    "\n",
    "## ***Update: use downsampled_dict for response variable\n",
    "biased sample size may affect model predictability!"
   ]
  },
  {
   "cell_type": "markdown",
   "metadata": {},
   "source": [
    "# Part 2: Main analysis"
   ]
  },
  {
   "cell_type": "code",
   "execution_count": 3,
   "metadata": {
    "scrolled": true
   },
   "outputs": [],
   "source": [
    "df = pd.read_csv(\"Logistic_data.csv\")\n",
    "response_variable = df[\"Colex_freq_group\"].tolist()\n",
    "predictors_df = df[['Associativity', 'Familiarity', 'Concreteness']]\n",
    "predictors_df_associativity = df[['Associativity']]"
   ]
  },
  {
   "cell_type": "markdown",
   "metadata": {},
   "source": [
    "## Fit Logistic Regression Model"
   ]
  },
  {
   "cell_type": "code",
   "execution_count": 10,
   "metadata": {},
   "outputs": [
    {
     "name": "stdout",
     "output_type": "stream",
     "text": [
      "       Predictor         VIF\n",
      "0          const  261.923281\n",
      "1  Associativity    1.017930\n",
      "2    Familiarity    1.017768\n",
      "3   Concreteness    1.028724\n"
     ]
    }
   ],
   "source": [
    "# Check multicolinearity with VIF\n",
    "from statsmodels.stats.outliers_influence import variance_inflation_factor\n",
    "import statsmodels.api as sm\n",
    "\n",
    "# Add a constant to the predictors_df_all DataFrame\n",
    "predictors_df_constant = sm.add_constant(predictors_df)\n",
    "\n",
    "# Calculate the VIF for each predictor\n",
    "vif_data = pd.DataFrame()\n",
    "vif_data[\"Predictor\"] = predictors_df_constant.columns\n",
    "vif_data[\"VIF\"] = [variance_inflation_factor(predictors_df_constant.values, i) for i in range(predictors_df_constant.shape[1])]\n",
    "\n",
    "# Display the VIF data\n",
    "print(vif_data)\n",
    "\n",
    "# A VIF of close to 1 -> low multicolinearity does not indicate a problem\n",
    "# concreteness and imagability obtain relatively higher VIF which is expected"
   ]
  },
  {
   "cell_type": "markdown",
   "metadata": {},
   "source": [
    "## Use 10-fold CV on single predictor: associativity"
   ]
  },
  {
   "cell_type": "code",
   "execution_count": 11,
   "metadata": {},
   "outputs": [
    {
     "name": "stdout",
     "output_type": "stream",
     "text": [
      "                       Pair  Probability\n",
      "728          ('DOWN', 'UP')     0.900665\n",
      "96     ('FATHER', 'MOTHER')     0.880521\n",
      "178       ('AUNT', 'UNCLE')     0.877067\n",
      "893        ('MAN', 'WOMAN')     0.871746\n",
      "476           ('HE', 'SHE')     0.863000\n",
      "..                      ...          ...\n",
      "234  ('MEDICINE', 'POISON')     0.446941\n",
      "131         ('SALT', 'SEA')     0.446941\n",
      "888        ('THINK', 'TRY')     0.446941\n",
      "0          ('HOLD', 'PULL')     0.446941\n",
      "538   ('JEWEL', 'NECKLACE')     0.446603\n",
      "\n",
      "[960 rows x 2 columns]\n",
      "Fold 1: Associativity_Accuracy = 0.5208\n",
      "Fold 2: Associativity_Accuracy = 0.6458\n",
      "Fold 3: Associativity_Accuracy = 0.5521\n",
      "Fold 4: Associativity_Accuracy = 0.5938\n",
      "Fold 5: Associativity_Accuracy = 0.4688\n",
      "Fold 6: Associativity_Accuracy = 0.5938\n",
      "Fold 7: Associativity_Accuracy = 0.6354\n",
      "Fold 8: Associativity_Accuracy = 0.6667\n",
      "Fold 9: Associativity_Accuracy = 0.6146\n",
      "Fold 10: Associativity_Accuracy = 0.5729\n",
      "Average Associativity Accuracy: 0.5865\n"
     ]
    }
   ],
   "source": [
    "from sklearn.model_selection import cross_val_score\n",
    "from sklearn.model_selection import cross_val_predict\n",
    "from sklearn.model_selection import KFold\n",
    "\n",
    "# Prepare X and y\n",
    "pred_assoc = predictors_df['Associativity'].values.reshape(-1,1)\n",
    "\n",
    "\n",
    "# Create a logistic regression model\n",
    "model = LogisticRegression()\n",
    "\n",
    "# Specify the number of folds for cross-validation (in this case, 20 folds)\n",
    "num_folds = 10\n",
    "kf = KFold(n_splits=num_folds, shuffle=True, random_state=42)\n",
    "\n",
    "# Perform 10-fold cross-validation and obtain predicted probabilities\n",
    "predicted_probabilities_assoc = cross_val_predict(model, pred_assoc, response_variable, cv=kf, method='predict_proba')\n",
    "\n",
    "# Extract the probability of the positive class (1)\n",
    "predicted_probabilities_positive_class_assoc = predicted_probabilities_assoc[:, 1]\n",
    "\n",
    "# Assuming you have a DataFrame with pairs and their corresponding probabilities\n",
    "pairs_with_probabilities_assoc = pd.DataFrame({'Pair': df['Pair'], 'Probability': predicted_probabilities_positive_class_assoc})\n",
    "\n",
    "# Sort the DataFrame by probabilities in descending order\n",
    "pairs_with_probabilities_sorted_assoc = pairs_with_probabilities_assoc.sort_values(by='Probability', ascending=False)\n",
    "\n",
    "# Print the sorted probabilities for each pair\n",
    "print(pairs_with_probabilities_sorted_assoc)\n",
    "\n",
    "# Perform 10-fold cross-validation and calculate accuracy scores\n",
    "accuracy_scores_assoc = cross_val_score(model, pred_assoc, response_variable, cv=kf, scoring='accuracy')\n",
    "\n",
    "# Print the accuracy scores for each fold\n",
    "for fold, accuracy in enumerate(accuracy_scores_assoc, 1):\n",
    "    print(f'Fold {fold}: Associativity_Accuracy = {accuracy:.4f}')\n",
    "\n",
    "# Calculate and print the average accuracy across all folds\n",
    "assoc_average_accuracy_assoc = np.mean(accuracy_scores_assoc)\n",
    "print(f'Average Associativity Accuracy: {assoc_average_accuracy_assoc:.4f}')\n",
    "\n",
    "# Find High Probability Pairs in cleaned_concept_dict to see colexification frequency count, discussed in class, \n",
    "# opposite pairs tend to be highly associated but not colexified frequently\n",
    "# cleaned_concept_dict"
   ]
  },
  {
   "cell_type": "markdown",
   "metadata": {},
   "source": [
    "## Use 10-fold CV on single predictor: Familarity"
   ]
  },
  {
   "cell_type": "code",
   "execution_count": 12,
   "metadata": {},
   "outputs": [
    {
     "name": "stdout",
     "output_type": "stream",
     "text": [
      "960\n",
      "                          Pair  Probability\n",
      "467       ('AFTERNOON', 'SUN')     0.519196\n",
      "196     ('NEWSPAPER', 'PAPER')     0.517034\n",
      "25          ('DRINK', 'WATER')     0.515952\n",
      "331         ('SUN', 'WEATHER')     0.514252\n",
      "556        ('CLOTHES', 'WASH')     0.513210\n",
      "..                         ...          ...\n",
      "299         ('BUNCH', 'CROWD')     0.478382\n",
      "481        ('FISH', 'LOBSTER')     0.477455\n",
      "328   ('LIGHTNING', 'THUNDER')     0.476220\n",
      "309  ('CATERPILLAR', 'INSECT')     0.474214\n",
      "377         ('BEGGAR', 'POOR')     0.471747\n",
      "\n",
      "[960 rows x 2 columns]\n",
      "Fold 1: Familiarity_Accuracy = 0.4583\n",
      "Fold 2: Familiarity_Accuracy = 0.4375\n",
      "Fold 3: Familiarity_Accuracy = 0.4375\n",
      "Fold 4: Familiarity_Accuracy = 0.3854\n",
      "Fold 5: Familiarity_Accuracy = 0.4375\n",
      "Fold 6: Familiarity_Accuracy = 0.4688\n",
      "Fold 7: Familiarity_Accuracy = 0.4479\n",
      "Fold 8: Familiarity_Accuracy = 0.3958\n",
      "Fold 9: Familiarity_Accuracy = 0.4375\n",
      "Fold 10: Familiarity_Accuracy = 0.4375\n",
      "Average Familiarity Accuracy: 0.4344\n"
     ]
    }
   ],
   "source": [
    "# Prepare X and y\n",
    "pred_fam = predictors_df['Familiarity'].values.reshape(-1,1)\n",
    "\n",
    "\n",
    "# Create a logistic regression model\n",
    "model = LogisticRegression()\n",
    "\n",
    "# Specify the number of folds for cross-validation (in this case, 20 folds)\n",
    "num_folds = 10\n",
    "kf = KFold(n_splits=num_folds, shuffle=True, random_state=42)\n",
    "\n",
    "# Perform 10-fold cross-validation and obtain predicted probabilities\n",
    "predicted_probabilities_fam = cross_val_predict(model, pred_fam, response_variable, cv=kf, method='predict_proba')\n",
    "# print(predicted_probabilities)\n",
    "\n",
    "# Extract the probability of the positive class (1)\n",
    "predicted_probabilities_positive_class_fam = predicted_probabilities_fam[:, 1]\n",
    "print(len(predicted_probabilities_positive_class_fam))\n",
    "\n",
    "\n",
    "# Assuming you have a DataFrame with pairs and their corresponding probabilities\n",
    "pairs_with_probabilities_fam = pd.DataFrame({'Pair': df['Pair'], 'Probability': predicted_probabilities_positive_class_fam})\n",
    "\n",
    "# Sort the DataFrame by probabilities in descending order\n",
    "pairs_with_probabilities_sorted_fam = pairs_with_probabilities_fam.sort_values(by='Probability', ascending=False)\n",
    "\n",
    "# Print the sorted probabilities for each pair\n",
    "print(pairs_with_probabilities_sorted_fam)\n",
    "\n",
    "# Perform 10-fold cross-validation and calculate accuracy scores\n",
    "accuracy_scores_fam = cross_val_score(model, pred_fam, response_variable, cv=kf, scoring='accuracy')\n",
    "\n",
    "# Print the accuracy scores for each fold\n",
    "for fold, accuracy in enumerate(accuracy_scores_fam, 1):\n",
    "    print(f'Fold {fold}: Familiarity_Accuracy = {accuracy:.4f}')\n",
    "\n",
    "# Calculate and print the average accuracy across all folds\n",
    "fam_average_accuracy = np.mean(accuracy_scores_fam)\n",
    "print(f'Average Familiarity Accuracy: {fam_average_accuracy:.4f}')"
   ]
  },
  {
   "cell_type": "markdown",
   "metadata": {},
   "source": [
    "## Use 10-fold CV on single predictor: Concretness"
   ]
  },
  {
   "cell_type": "code",
   "execution_count": 23,
   "metadata": {
    "scrolled": true
   },
   "outputs": [
    {
     "name": "stdout",
     "output_type": "stream",
     "text": [
      "                    Pair  Probability  Concrete\n",
      "574  ('CHEESE', 'MOUSE')     0.577042       0.0\n",
      "156    ('BITE', 'STING')     0.577042       0.0\n",
      "27    ('COTTON', 'WOOL')     0.577042       0.0\n",
      "607  ('MURDER', 'SHOOT')     0.575033       0.0\n",
      "816     ('MELT', 'SOFT')     0.574055       1.0\n",
      "..                   ...          ...       ...\n",
      "847   ('BLOOD', 'FIRST')     0.279775     302.0\n",
      "692    ('FLOW', 'WATER')     0.277429     305.0\n",
      "384    ('HEART', 'SOUL')     0.276321     316.0\n",
      "505     ('BE', 'FLOWER')     0.243249     359.0\n",
      "448     ('BRAVE', 'MAN')     0.237781     335.0\n",
      "\n",
      "[960 rows x 3 columns]\n",
      "Fold 1: Concreteness_Accuracy = 0.4792\n",
      "Fold 2: Concreteness_Accuracy = 0.5104\n",
      "Fold 3: Concreteness_Accuracy = 0.5521\n",
      "Fold 4: Concreteness_Accuracy = 0.6771\n",
      "Fold 5: Concreteness_Accuracy = 0.5208\n",
      "Fold 6: Concreteness_Accuracy = 0.5000\n",
      "Fold 7: Concreteness_Accuracy = 0.5729\n",
      "Fold 8: Concreteness_Accuracy = 0.5208\n",
      "Fold 9: Concreteness_Accuracy = 0.4479\n",
      "Fold 10: Concreteness_Accuracy = 0.5000\n",
      "Average Concretness Accuracy: 0.5281\n"
     ]
    }
   ],
   "source": [
    "# Prepare X and y\n",
    "pred_con = predictors_df['Concreteness'].values.reshape(-1,1)\n",
    "\n",
    "# Create a logistic regression model\n",
    "model = LogisticRegression()\n",
    "\n",
    "# Specify the number of folds for cross-validation (in this case, 20 folds)\n",
    "num_folds = 10\n",
    "kf = KFold(n_splits=num_folds, shuffle=True, random_state=42)\n",
    "\n",
    "# Perform 10-fold cross-validation and obtain predicted probabilities\n",
    "predicted_probabilities_con = cross_val_predict(model, pred_con, response_variable, cv=kf, method='predict_proba')\n",
    "\n",
    "# Extract the probability of the positive class (1)\n",
    "predicted_probabilities_positive_class_con = predicted_probabilities_con[:, 1]\n",
    "\n",
    "# Assuming you have a DataFrame with pairs and their corresponding probabilities\n",
    "pairs_with_probabilities_con = pd.DataFrame({'Pair': df['Pair'], 'Probability': predicted_probabilities_positive_class_con, 'Concrete': df['Concreteness']})\n",
    "\n",
    "# Sort the DataFrame by probabilities in descending order\n",
    "pairs_with_probabilities_sorted_con = pairs_with_probabilities_con.sort_values(by='Probability', ascending=False)\n",
    "\n",
    "# Print the sorted probabilities for each pair\n",
    "print(pairs_with_probabilities_sorted_con)\n",
    "\n",
    "# Perform 10-fold cross-validation and calculate accuracy scores\n",
    "accuracy_scores_con = cross_val_score(model, pred_con, response_variable, cv=kf, scoring='accuracy')\n",
    "\n",
    "# Print the accuracy scores for each fold\n",
    "for fold, accuracy in enumerate(accuracy_scores_con, 1):\n",
    "    print(f'Fold {fold}: Concreteness_Accuracy = {accuracy:.4f}')\n",
    "\n",
    "# Calculate and print the average accuracy across all folds\n",
    "con_average_accuracy = np.mean(accuracy_scores_con)\n",
    "print(f'Average Concretness Accuracy: {con_average_accuracy:.4f}')"
   ]
  },
  {
   "cell_type": "markdown",
   "metadata": {},
   "source": [
    "## Concept pair analysis"
   ]
  },
  {
   "cell_type": "code",
   "execution_count": 14,
   "metadata": {},
   "outputs": [
    {
     "name": "stdout",
     "output_type": "stream",
     "text": [
      "\n",
      "Ranking and Probability of Top Concreteness Pairs in Associativity:\n",
      "                    Pair  Rank_Associativity  Probability_Associativity  \\\n",
      "574  ('CHEESE', 'MOUSE')               137.0                   0.546061   \n",
      "156    ('BITE', 'STING')               440.0                   0.475786   \n",
      "27    ('COTTON', 'WOOL')               273.5                   0.496825   \n",
      "607  ('MURDER', 'SHOOT')               496.0                   0.472915   \n",
      "816     ('MELT', 'SOFT')               426.5                   0.476681   \n",
      "\n",
      "     Probability_Concreteness  \n",
      "574                  0.577042  \n",
      "156                  0.577042  \n",
      "27                   0.577042  \n",
      "607                  0.575033  \n",
      "816                  0.574055  \n",
      "\n",
      "Ranking and Probability of Top Associativity Pairs in Concreteness:\n",
      "                     Pair  Rank_Concreteness  Probability_Concreteness  \\\n",
      "728        ('DOWN', 'UP')              584.0                  0.507428   \n",
      "96   ('FATHER', 'MOTHER')              126.5                  0.557314   \n",
      "178     ('AUNT', 'UNCLE')              261.5                  0.545252   \n",
      "893      ('MAN', 'WOMAN')              419.5                  0.532452   \n",
      "476         ('HE', 'SHE')              195.0                  0.551366   \n",
      "\n",
      "     Probability_Associativity  \n",
      "728                   0.900665  \n",
      "96                    0.880521  \n",
      "178                   0.877067  \n",
      "893                   0.871746  \n",
      "476                   0.863000  \n"
     ]
    }
   ],
   "source": [
    "# Assuming you have a DataFrame with pairs and their corresponding probabilities for both predictors\n",
    "merged_probabilities = pd.DataFrame({\n",
    "    'Pair': df['Pair'],\n",
    "    'Probability_Associativity': predicted_probabilities_positive_class_assoc,\n",
    "    'Probability_Concreteness': predicted_probabilities_positive_class_con\n",
    "})\n",
    "\n",
    "# Sort the DataFrame by probabilities in descending order for both predictors\n",
    "merged_probabilities_sorted_assoc = merged_probabilities.sort_values(by='Probability_Associativity', ascending=False)\n",
    "merged_probabilities_sorted_con = merged_probabilities.sort_values(by='Probability_Concreteness', ascending=False)\n",
    "\n",
    "# Add a new column 'Rank' based on the 'Probability_Associativity' in 'Concreteness'\n",
    "merged_probabilities_sorted_con['Rank_Associativity'] = merged_probabilities_sorted_con['Probability_Associativity'].rank(ascending=False)\n",
    "\n",
    "# Add a new column 'Rank' based on the 'Probability_Concreteness' in 'Associativity'\n",
    "merged_probabilities_sorted_assoc['Rank_Concreteness'] = merged_probabilities_sorted_assoc['Probability_Concreteness'].rank(ascending=False)\n",
    "\n",
    "# Print the ranking and probability of top pairs for both scenarios\n",
    "print(\"\\nRanking and Probability of Top Concreteness Pairs in Associativity:\")\n",
    "print(merged_probabilities_sorted_con[['Pair', 'Rank_Associativity', 'Probability_Associativity', 'Probability_Concreteness']].head())\n",
    "\n",
    "print(\"\\nRanking and Probability of Top Associativity Pairs in Concreteness:\")\n",
    "print(merged_probabilities_sorted_assoc[['Pair', 'Rank_Concreteness', 'Probability_Concreteness', 'Probability_Associativity']].head())"
   ]
  },
  {
   "cell_type": "code",
   "execution_count": 15,
   "metadata": {},
   "outputs": [
    {
     "name": "stdout",
     "output_type": "stream",
     "text": [
      "Fold 1: All_Predictors_Accuracy = 0.5521\n",
      "Fold 2: All_Predictors_Accuracy = 0.5938\n",
      "Fold 3: All_Predictors_Accuracy = 0.6042\n",
      "Fold 4: All_Predictors_Accuracy = 0.6250\n",
      "Fold 5: All_Predictors_Accuracy = 0.5521\n",
      "Fold 6: All_Predictors_Accuracy = 0.5521\n",
      "Fold 7: All_Predictors_Accuracy = 0.5729\n",
      "Fold 8: All_Predictors_Accuracy = 0.5938\n",
      "Fold 9: All_Predictors_Accuracy = 0.5312\n",
      "Fold 10: All_Predictors_Accuracy = 0.5729\n",
      "Average All Predictors Accuracy: 0.5750\n"
     ]
    }
   ],
   "source": [
    "# Create a logistic regression model\n",
    "model_all = LogisticRegression()\n",
    "\n",
    "# Removed the irrelevant predictor \"Familiarity\" increased multiple logistic regression accuracy\n",
    "predictors_df_2 = df[['Associativity', 'Concreteness']]\n",
    "\n",
    "predictors_df_3 = df[['Associativity', 'Familiarity', 'Concreteness']]\n",
    "# Specify the number of folds for cross-validation (in this case, 20 folds)\n",
    "num_folds = 10\n",
    "kf = KFold(n_splits=num_folds, shuffle=True, random_state=42)\n",
    "\n",
    "# Perform 10-fold cross-validation and calculate accuracy scores\n",
    "accuracy_scores_all = cross_val_score(model_all, predictors_df_2, response_variable, cv=kf, scoring='accuracy')\n",
    "\n",
    "# Print the accuracy scores for each fold\n",
    "for fold, accuracy in enumerate(accuracy_scores_all, 1):\n",
    "    print(f'Fold {fold}: All_Predictors_Accuracy = {accuracy:.4f}')\n",
    "\n",
    "# Calculate and print the average accuracy across all folds\n",
    "avg_accuracy_all = np.mean(accuracy_scores_all)\n",
    "print(f'Average All Predictors Accuracy: {avg_accuracy_all:.4f}')"
   ]
  },
  {
   "cell_type": "code",
   "execution_count": 16,
   "metadata": {},
   "outputs": [
    {
     "name": "stdout",
     "output_type": "stream",
     "text": [
      "Fold 1: All_Predictors_Accuracy = 0.5625\n",
      "Fold 2: All_Predictors_Accuracy = 0.5833\n",
      "Fold 3: All_Predictors_Accuracy = 0.6042\n",
      "Fold 4: All_Predictors_Accuracy = 0.6146\n",
      "Fold 5: All_Predictors_Accuracy = 0.5417\n",
      "Fold 6: All_Predictors_Accuracy = 0.5625\n",
      "Fold 7: All_Predictors_Accuracy = 0.5938\n",
      "Fold 8: All_Predictors_Accuracy = 0.5833\n",
      "Fold 9: All_Predictors_Accuracy = 0.5417\n",
      "Fold 10: All_Predictors_Accuracy = 0.5729\n",
      "Average All Predictors Accuracy: 0.5760\n"
     ]
    }
   ],
   "source": [
    "# Create a logistic regression model\n",
    "model_all = LogisticRegression()\n",
    "\n",
    "predictors_df_3 = df[['Associativity', 'Familiarity', 'Concreteness']]\n",
    "# Specify the number of folds for cross-validation (in this case, 20 folds)\n",
    "num_folds = 10\n",
    "kf = KFold(n_splits=num_folds, shuffle=True, random_state=42)\n",
    "\n",
    "# Perform 10-fold cross-validation and calculate accuracy scores\n",
    "accuracy_scores_all_3 = cross_val_score(model_all, predictors_df_3, response_variable, cv=kf, scoring='accuracy')\n",
    "\n",
    "# Print the accuracy scores for each fold\n",
    "for fold, accuracy in enumerate(accuracy_scores_all_3, 1):\n",
    "    print(f'Fold {fold}: All_Predictors_Accuracy = {accuracy:.4f}')\n",
    "\n",
    "# Calculate and print the average accuracy across all folds\n",
    "avg_accuracy_all_3 = np.mean(accuracy_scores_all_3)\n",
    "print(f'Average All Predictors Accuracy: {avg_accuracy_all_3:.4f}')"
   ]
  },
  {
   "cell_type": "code",
   "execution_count": 29,
   "metadata": {},
   "outputs": [
    {
     "name": "stdout",
     "output_type": "stream",
     "text": [
      "Coefficients for each predictor:\n",
      "Associativity: 2.7283700377331725\n",
      "Familiarity: 0.0002736369783511713\n",
      "Concreteness: -0.003629453118806178\n"
     ]
    },
    {
     "data": {
      "image/png": "[encoded data removed]",
      "text/plain": [
       "<Figure size 700x500 with 1 Axes>"
      ]
     },
     "metadata": {},
     "output_type": "display_data"
    }
   ],
   "source": [
    "# Fit the model on the entire dataset\n",
    "model_all.fit(predictors_df_3, response_variable)\n",
    "\n",
    "# Get the coefficients\n",
    "coefficients_all = model_all.coef_\n",
    "\n",
    "# Display the coefficients\n",
    "print(\"Coefficients for each predictor:\")\n",
    "for predictor, coef in zip(predictors_df_3.columns, coefficients_all[0]):\n",
    "    print(f\"{predictor}: {coef}\")\n",
    "    \n",
    "# Get the coefficients\n",
    "coefficients_all = model_all.coef_\n",
    "\n",
    "# List of coefficients and corresponding predictor names\n",
    "coefficients_values = coefficients_all.flatten()\n",
    "predictor_names = predictors_df_3.columns\n",
    "\n",
    "# Set seaborn style (optional, choose the one you prefer)\n",
    "sns.set(style=\"whitegrid\")\n",
    "\n",
    "# Create a barplot for coefficients using seaborn\n",
    "plt.figure(figsize=(7, 5))\n",
    "sns.barplot(x=predictor_names, y=coefficients_values, color='skyblue', width=0.6)\n",
    "\n",
    "# Add labels and title\n",
    "plt.xlabel('Predictors', fontsize=12)\n",
    "plt.ylabel('Coefficient Value', fontsize=12)\n",
    "plt.title('Coefficients for Each Predictor in Multiple Logistic Regression', fontsize=14)\n",
    "\n",
    "# Rotate x-axis labels for better visibility\n",
    "plt.xticks(rotation=45, ha=\"right\", fontsize=12)\n",
    "\n",
    "# Show the plot\n",
    "plt.tight_layout()\n",
    "plt.show()"
   ]
  },
  {
   "cell_type": "markdown",
   "metadata": {},
   "source": [
    "## Bootstrap for coefficient significance¶"
   ]
  },
  {
   "cell_type": "code",
   "execution_count": 25,
   "metadata": {
    "scrolled": true
   },
   "outputs": [
    {
     "name": "stderr",
     "output_type": "stream",
     "text": [
      "100%|██████████| 10000/10000 [01:18<00:00, 127.15it/s]"
     ]
    },
    {
     "name": "stdout",
     "output_type": "stream",
     "text": [
      "10000\n",
      "10000\n",
      "10000\n"
     ]
    },
    {
     "name": "stderr",
     "output_type": "stream",
     "text": [
      "\n"
     ]
    }
   ],
   "source": [
    "# Apply bootstrap to each row of the DataFrame\n",
    "import random\n",
    "random.seed(0)\n",
    "\n",
    "predictor_columns = ['Associativity', 'Familiarity', 'Concreteness']\n",
    "\n",
    "num_sim = 10000\n",
    "assoc_coeff = list()\n",
    "con_coeff = list()\n",
    "fam_coeff = list()\n",
    "\n",
    "for i in tqdm(range(10000)):\n",
    "    bootstrap_samples = df.sample(n=len(df), replace=True)\n",
    "    # bootstrap_samples['Colex_freq_group'].value_counts()\n",
    "\n",
    "    model_all = LogisticRegression()\n",
    "    boot_response_variable = bootstrap_samples['Colex_freq_group']\n",
    "    boot_predictors_df = bootstrap_samples[predictor_columns]\n",
    "\n",
    "    model_all.fit(boot_predictors_df, boot_response_variable)\n",
    "\n",
    "    # Get the coefficients\n",
    "    coefficients_all = model_all.coef_\n",
    "    \n",
    "    assoc_coeff.append(coefficients_all[0][0])\n",
    "    fam_coeff.append(coefficients_all[0][1])\n",
    "    con_coeff.append(coefficients_all[0][2])"
   ]
  },
  {
   "cell_type": "code",
   "execution_count": 26,
   "metadata": {},
   "outputs": [
    {
     "data": {
      "text/plain": [
       "array([1.65607378, 3.77681142])"
      ]
     },
     "execution_count": 26,
     "metadata": {},
     "output_type": "execute_result"
    }
   ],
   "source": [
    "confint_assoc = np.percentile(assoc_coeff, [2.5, 97.5])\n",
    "confint_assoc "
   ]
  },
  {
   "cell_type": "code",
   "execution_count": 27,
   "metadata": {},
   "outputs": [
    {
     "data": {
      "text/plain": [
       "array([-0.00570722, -0.00171718])"
      ]
     },
     "execution_count": 27,
     "metadata": {},
     "output_type": "execute_result"
    }
   ],
   "source": [
    "confint_con = np.percentile(con_coeff, [2.5, 97.5])\n",
    "confint_con"
   ]
  },
  {
   "cell_type": "code",
   "execution_count": 28,
   "metadata": {},
   "outputs": [
    {
     "data": {
      "text/plain": [
       "array([-0.00177756,  0.00361861])"
      ]
     },
     "execution_count": 28,
     "metadata": {},
     "output_type": "execute_result"
    }
   ],
   "source": [
    "confint_fam = np.percentile(fam_coeff, [2.5, 97.5])\n",
    "confint_fam"
   ]
  },
  {
   "cell_type": "code",
   "execution_count": 20,
   "metadata": {},
   "outputs": [
    {
     "name": "stdout",
     "output_type": "stream",
     "text": [
      "Coefficients for each predictor:\n",
      "Associativity: 2.8814284343178853\n"
     ]
    }
   ],
   "source": [
    "# Fit the model on the entire dataset\n",
    "model_all.fit(predictors_df_associativity, response_variable)\n",
    "\n",
    "# Get the coefficients\n",
    "coefficients_all = model_all.coef_\n",
    "\n",
    "# Display the coefficients\n",
    "print(\"Coefficients for each predictor:\")\n",
    "for predictor, coef in zip(predictors_df_associativity.columns, coefficients_all[0]):\n",
    "    print(f\"{predictor}: {coef}\")"
   ]
  },
  {
   "cell_type": "markdown",
   "metadata": {},
   "source": [
    "## Barplot to visualize predictive accuracy"
   ]
  },
  {
   "cell_type": "code",
   "execution_count": 21,
   "metadata": {},
   "outputs": [
    {
     "data": {
      "image/png": "[encoded data removed]",
      "text/plain": [
       "<Figure size 700x500 with 1 Axes>"
      ]
     },
     "metadata": {},
     "output_type": "display_data"
    }
   ],
   "source": [
    "import matplotlib.pyplot as plt\n",
    "import seaborn as sns\n",
    "\n",
    "# List of accuracy values\n",
    "accuracy_values = [avg_accuracy_all, avg_accuracy_all_3, con_average_accuracy, fam_average_accuracy, assoc_average_accuracy_assoc]\n",
    "\n",
    "# List of corresponding predictor names\n",
    "predictor_names = ['Associativity + Concreteness', \"Associativity + Concreteness + Familiarity\", 'Concreteness', 'Familiarity', 'Associativity']\n",
    "\n",
    "# Set seaborn style (optional, choose the one you prefer)\n",
    "sns.set(style=\"whitegrid\")\n",
    "\n",
    "# Create a barplot using seaborn\n",
    "plt.figure(figsize=(7, 5))\n",
    "sns.barplot(x=predictor_names, y=accuracy_values, color='skyblue', width=0.5)\n",
    "\n",
    "# Add labels and title\n",
    "plt.xlabel('Predictors', fontsize=12)\n",
    "plt.ylabel('Predictive Accuracy', fontsize=12)\n",
    "plt.title('Predictive Accuracy for Different Predictors', fontsize=14)\n",
    "\n",
    "# Rotate x-axis labels for better visibility\n",
    "plt.xticks(rotation=45, ha=\"right\", fontsize=12)\n",
    "\n",
    "# Show the plot\n",
    "plt.tight_layout()\n",
    "plt.show()"
   ]
  }
 ],
 "metadata": {
  "kernelspec": {
   "display_name": "Python 3 (ipykernel)",
   "language": "python",
   "name": "python3"
  },
  "language_info": {
   "codemirror_mode": {
    "name": "ipython",
    "version": 3
   },
   "file_extension": ".py",
   "mimetype": "text/x-python",
   "name": "python",
   "nbconvert_exporter": "python",
   "pygments_lexer": "ipython3",
   "version": "3.10.8"
  }
 },
 "nbformat": 4,
 "nbformat_minor": 2
}
